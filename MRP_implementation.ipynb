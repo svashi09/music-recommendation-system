{
 "cells": [
  {
   "cell_type": "code",
   "execution_count": 12,
   "id": "e6ea4826-341e-45d0-98aa-ecd787176b8f",
   "metadata": {},
   "outputs": [],
   "source": [
    "import pandas as pd\n",
    "\n",
    "# Load the dataset\n",
    "df = pd.read_csv('spotify_dataset.csv')"
   ]
  },
  {
   "cell_type": "code",
   "execution_count": 13,
   "id": "5e8752a6-f38b-4766-8a1c-5c4e9c18b7c5",
   "metadata": {},
   "outputs": [
    {
     "name": "stdin",
     "output_type": "stream",
     "text": [
      "Enter the track name:  blank space\n",
      "Enter the artist name(s):  Taylor swift\n"
     ]
    },
    {
     "name": "stdout",
     "output_type": "stream",
     "text": [
      "YES, Song 'blank space' by 'Taylor swift' was found in the dataset.\n"
     ]
    }
   ],
   "source": [
    "# TO CHECK IF THE INPUT SONG EXISTS\n",
    "\n",
    "def check_song_availability(track_name, artist_name):\n",
    "    # Convert input song details to lowercase for case-insensitive comparison\n",
    "    track_name_lower = track_name.strip().lower()\n",
    "    artist_name_lower = artist_name.strip().lower()\n",
    "    \n",
    "    # Check if the song exists in the dataset\n",
    "    song = df[(df['track_name'].str.lower() == track_name_lower) & \n",
    "              (df['artists'].str.lower().str.contains(artist_name_lower))]\n",
    "    \n",
    "    if song.empty:\n",
    "        print(f\"Song '{track_name}' by '{artist_name}' was NOT found in the dataset.\")\n",
    "        return None\n",
    "    else:\n",
    "        print(f\"YES, Song '{track_name}' by '{artist_name}' was found in the dataset.\")\n",
    "\n",
    "# Get user input\n",
    "track_name = input(\"Enter the track name: \").strip()\n",
    "artist_name = input(\"Enter the artist name(s): \").strip()\n",
    "\n",
    "input_song = {\n",
    "    'track_name': track_name,\n",
    "    'artist_name': artist_name\n",
    "}\n",
    "\n",
    "# Check if the song is available in the dataset\n",
    "check_song_availability(track_name, artist_name)\n",
    "\n"
   ]
  },
  {
   "cell_type": "code",
   "execution_count": 14,
   "id": "27b3f61e-7281-4fae-9809-5cd3cb2eeb3d",
   "metadata": {},
   "outputs": [],
   "source": [
    "# Step 1: Unsupervised Learning: K-means Clustering"
   ]
  },
  {
   "cell_type": "code",
   "execution_count": 15,
   "id": "35957e31-7fa1-4cac-b8f8-4def4e3404ab",
   "metadata": {},
   "outputs": [],
   "source": [
    "# MODEL\n",
    "\n",
    "from sklearn.preprocessing import LabelEncoder, StandardScaler\n",
    "from sklearn.cluster import KMeans\n",
    "\n",
    "class KMeansSongRecommender:\n",
    "    def __init__(self, n_clusters=None):\n",
    "        self.n_clusters = n_clusters\n",
    "        self.label_encoder = LabelEncoder()\n",
    "        self.scaler = StandardScaler()\n",
    "        self.kmeans = None\n",
    "\n",
    "    def preprocess_data(self, df):\n",
    "        df = df.dropna()\n",
    "        df = df.drop(['time_signature', 'key'], axis=1)\n",
    "        df.drop_duplicates(subset=['track_id'], inplace=True)\n",
    "        df['track_genre_encoded'] = self.label_encoder.fit_transform(df['track_genre'].astype(str))\n",
    "        \n",
    "        features = ['track_genre_encoded', 'danceability', 'energy', 'valence', 'loudness',\n",
    "                    'speechiness', 'acousticness', 'instrumentalness', 'liveness', 'tempo']\n",
    "        df_features = df[features]\n",
    "        \n",
    "        df_features_normalized = self.scaler.fit_transform(df_features)\n",
    "        \n",
    "        return df, df_features_normalized\n",
    "\n",
    "    def fit(self, df):\n",
    "        df, df_features_normalized = self.preprocess_data(df)\n",
    "        \n",
    "        if not self.n_clusters:\n",
    "            self.n_clusters = len(df['track_genre'].unique())\n",
    "        \n",
    "        self.kmeans = KMeans(n_clusters=self.n_clusters, random_state=0)\n",
    "        df['cluster'] = self.kmeans.fit_predict(df_features_normalized)\n",
    "        \n",
    "        return df\n",
    "\n",
    "    def recommend(self, df, input_song, n_recommendations=5):\n",
    "        input_song_name = input_song['track_name'].strip().lower()\n",
    "        input_artist_name = input_song['artist_name'].strip().lower()\n",
    "        \n",
    "        song = df[(df['track_name'].str.lower() == input_song_name) & \n",
    "                  (df['artists'].apply(lambda x: any(artist.lower() == input_artist_name for artist in x.lower().split(';'))))]\n",
    "        \n",
    "        if song.empty:\n",
    "            return \"Input song not found in the dataset.\"\n",
    "        \n",
    "        cluster = song['cluster'].values[0]\n",
    "        similar_songs = df[df['cluster'] == cluster]\n",
    "        similar_songs = similar_songs[~similar_songs['track_name'].str.lower().isin([input_song_name])]\n",
    "        unique_recommendations = similar_songs.drop_duplicates(subset='track_name')\n",
    "        unique_recommendations = unique_recommendations.sort_values(by='popularity', ascending=False)\n",
    "        \n",
    "        recommendations_df = unique_recommendations.head(n_recommendations)\n",
    "        \n",
    "        if not recommendations_df.empty:\n",
    "            return recommendations_df[['track_name', 'artists']]\n",
    "        else:\n",
    "            return \"No recommendations found for the input song's cluster.\"\n"
   ]
  },
  {
   "cell_type": "code",
   "execution_count": 16,
   "id": "bf2deb55-8fb3-4f0d-ab11-0cdbb6d65eeb",
   "metadata": {},
   "outputs": [
    {
     "name": "stdout",
     "output_type": "stream",
     "text": [
      "                                     track_name                      artists\n",
      "67801                                    LOKERA  Rauw Alejandro;Lyanno;Brray\n",
      "51352                           About Damn Time                        Lizzo\n",
      "38004  Why'd You Only Call Me When You're High?               Arctic Monkeys\n",
      "51159                                Without Me                       Eminem\n",
      "51216                       The Real Slim Shady                       Eminem\n"
     ]
    }
   ],
   "source": [
    "recommender = KMeansSongRecommender()\n",
    "df = recommender.fit(df)\n",
    "recommendations = recommender.recommend(df, input_song, n_recommendations=5)\n",
    "print(recommendations)"
   ]
  },
  {
   "cell_type": "code",
   "execution_count": 17,
   "id": "d784dcfc-455b-48ee-bf4c-6a68b433f703",
   "metadata": {},
   "outputs": [],
   "source": [
    "# Step 2: Supervised Learning: Content-Based Filtering"
   ]
  },
  {
   "cell_type": "code",
   "execution_count": 18,
   "id": "fbe7f629-9e1e-4c8a-901e-d701a6d49b14",
   "metadata": {},
   "outputs": [],
   "source": [
    "# MODEL\n",
    "\n",
    "from sklearn.preprocessing import StandardScaler\n",
    "from sklearn.metrics.pairwise import cosine_similarity\n",
    "\n",
    "class ContentBasedRecommender:\n",
    "    def __init__(self, features):\n",
    "        self.features = features\n",
    "        self.scaler = StandardScaler()\n",
    "        self.X_normalized = None\n",
    "\n",
    "    def preprocess_data(self, df):\n",
    "        self.df_reset = df.reset_index(drop=True)\n",
    "        self.df_reset['artists'] = self.df_reset['artists'].fillna('').astype(str)  # Handle missing artist values\n",
    "        self.X_normalized = self.scaler.fit_transform(self.df_reset[self.features])\n",
    "\n",
    "    def recommend(self, input_song, num_recommendations=5):\n",
    "        input_song_name = input_song['track_name'].strip().lower()\n",
    "        input_artist_name = input_song['artist_name'].strip().lower()\n",
    "        \n",
    "        song = self.df_reset[(self.df_reset['track_name'].str.lower() == input_song_name) & \n",
    "                             (self.df_reset['artists'].apply(lambda x: any(artist.lower() == input_artist_name for artist in x.split(';'))))]\n",
    "        \n",
    "        if song.empty:\n",
    "            return \"Input song not found in the dataset.\"\n",
    "        \n",
    "        input_index = song.index[0]\n",
    "        input_features = self.X_normalized[input_index].reshape(1, -1)\n",
    "        similarities = cosine_similarity(input_features, self.X_normalized)\n",
    "        \n",
    "        similarity_df = pd.DataFrame(similarities.T, index=self.df_reset.index, columns=['similarity'])\n",
    "        similarity_df = similarity_df.drop(index=input_index)\n",
    "        \n",
    "        recommendations = similarity_df.sort_values(by='similarity', ascending=False).head(num_recommendations * 2).join(self.df_reset[['track_name', 'artists']])\n",
    "        recommendations = recommendations.drop_duplicates(subset='track_name')\n",
    "        recommendations = recommendations[~(recommendations['track_name'].str.lower() == input_song_name) & \n",
    "                                          ~(recommendations['artists'].apply(lambda x: any(artist.lower() == input_artist_name for artist in x.split(';'))))]\n",
    "        \n",
    "        recommendations = recommendations.head(num_recommendations)\n",
    "        \n",
    "        return recommendations if not recommendations.empty else \"No recommendations found.\"\n",
    "        "
   ]
  },
  {
   "cell_type": "code",
   "execution_count": 19,
   "id": "b6d0c255-ca75-4eb6-b354-5ce7a4c4b922",
   "metadata": {},
   "outputs": [
    {
     "name": "stdout",
     "output_type": "stream",
     "text": [
      "       similarity                                         track_name  \\\n",
      "19711    0.991531                               Loco Contigo - REMIX   \n",
      "29400    0.991419  Loco Contigo (with J. Balvin & Ozuna feat. Nic...   \n",
      "32929    0.990431                                              Askim   \n",
      "58662    0.988703                                             Senjuu   \n",
      "57357    0.988462                                      Una Noche Más   \n",
      "\n",
      "                                                 artists  \n",
      "19711  DJ Snake;J Balvin;Ozuna;Nicky Jam;Natti Natash...  \n",
      "29400  DJ Snake;J Balvin;Ozuna;Nicky Jam;Natti Natash...  \n",
      "32929                                   Soolking;Reynmen  \n",
      "58662                           Havoc Mathan;Havoc Naven  \n",
      "57357                                     Mariah Angeliq  \n"
     ]
    }
   ],
   "source": [
    "features = ['danceability', 'energy', 'valence', 'loudness', 'speechiness', 'acousticness', 'instrumentalness', 'liveness', 'tempo']\n",
    "recommender = ContentBasedRecommender(features)\n",
    "recommender.preprocess_data(df)\n",
    "recommendations = recommender.recommend(input_song, num_recommendations=5)\n",
    "print(recommendations)"
   ]
  },
  {
   "cell_type": "code",
   "execution_count": 20,
   "id": "a6970894-e77d-45cc-b0e8-73318f09801d",
   "metadata": {},
   "outputs": [],
   "source": [
    "# HYBRID MODEL"
   ]
  },
  {
   "cell_type": "code",
   "execution_count": 23,
   "id": "f59b1bce-a59a-4f3a-a03d-a7c43a83cedb",
   "metadata": {},
   "outputs": [],
   "source": [
    "from sklearn.preprocessing import LabelEncoder, StandardScaler\n",
    "from sklearn.cluster import KMeans\n",
    "from sklearn.metrics.pairwise import cosine_similarity\n",
    "import pandas as pd\n",
    "\n",
    "class HybridSongRecommender:\n",
    "    def __init__(self, n_clusters=None):\n",
    "        self.n_clusters = n_clusters\n",
    "        self.label_encoder = LabelEncoder()\n",
    "        self.genre_scaler = StandardScaler()\n",
    "        self.content_scaler = StandardScaler()\n",
    "        self.kmeans = None\n",
    "        self.df = None\n",
    "        self.df_content_features_normalized = None\n",
    "\n",
    "    def preprocess_data(self, df):\n",
    "        self.df = df.dropna()\n",
    "        self.df = self.df.drop_duplicates(subset=['track_id'])\n",
    "        \n",
    "        # Encode the genre column\n",
    "        self.df['track_genre_encoded'] = self.label_encoder.fit_transform(self.df['track_genre'].astype(str))\n",
    "        \n",
    "        # Normalize genre features for K-Means clustering\n",
    "        genre_features = ['track_genre_encoded']\n",
    "        df_genre_features_normalized = self.genre_scaler.fit_transform(self.df[genre_features])\n",
    "        \n",
    "        # Normalize content features for content-based filtering\n",
    "        content_features = ['danceability', 'energy', 'valence', 'loudness', \n",
    "                            'speechiness', 'acousticness', 'instrumentalness', \n",
    "                            'liveness', 'tempo']\n",
    "        self.df_content_features_normalized = self.content_scaler.fit_transform(self.df[content_features])\n",
    "        \n",
    "        return df_genre_features_normalized\n",
    "\n",
    "    def fit(self, df):\n",
    "        df_genre_features_normalized = self.preprocess_data(df)\n",
    "        \n",
    "        if not self.n_clusters:\n",
    "            self.n_clusters = len(self.df['track_genre'].unique())\n",
    "        \n",
    "        # Perform K-Means clustering\n",
    "        self.kmeans = KMeans(n_clusters=self.n_clusters, random_state=0)\n",
    "        self.df['cluster'] = self.kmeans.fit_predict(df_genre_features_normalized)\n",
    "        \n",
    "        return self.df\n",
    "\n",
    "    def recommend(self, input_song, num_recommendations=5):\n",
    "        input_song_name = input_song['track_name'].strip().lower()\n",
    "        input_artist_name = input_song['artist_name'].strip().lower()\n",
    "        \n",
    "        # Find the input song in the dataset\n",
    "        song = self.df[(self.df['track_name'].str.lower() == input_song_name) & \n",
    "                       (self.df['artists'].str.lower().str.contains(input_artist_name))]\n",
    "        \n",
    "        if song.empty:\n",
    "            return \"Input song not found in the dataset.\"\n",
    "        \n",
    "        # Get the cluster of the input song\n",
    "        cluster = song['cluster'].values[0]\n",
    "        \n",
    "        # Get songs within the same cluster\n",
    "        cluster_songs = self.df[self.df['cluster'] == cluster]\n",
    "        cluster_songs = cluster_songs[~cluster_songs['track_name'].str.lower().isin([input_song_name])]\n",
    "        \n",
    "        # Get the features of the input song\n",
    "        input_song_position_index = song.index[0]\n",
    "        input_features = self.df_content_features_normalized[input_song_position_index].reshape(1, -1)\n",
    "        \n",
    "        # Get features of the songs in the same cluster\n",
    "        cluster_songs_features = self.df_content_features_normalized[cluster_songs.index]\n",
    "        \n",
    "        # Calculate cosine similarity\n",
    "        similarities = cosine_similarity(input_features, cluster_songs_features)\n",
    "        \n",
    "        # Create a DataFrame of similarities\n",
    "        similarity_df = pd.DataFrame(similarities.T, index=cluster_songs.index, columns=['similarity'])\n",
    "        \n",
    "        # Join with cluster songs and sort by similarity\n",
    "        recommendations = similarity_df.sort_values(by='similarity', ascending=False).join(cluster_songs[['track_name', 'artists', 'track_genre']])\n",
    "        \n",
    "        # Drop duplicates and select top N recommendations\n",
    "        recommendations = recommendations.drop_duplicates(subset=['track_name', 'artists']).head(num_recommendations)\n",
    "        \n",
    "        return recommendations[['track_name', 'artists', 'track_genre']] if not recommendations.empty else \"No recommendations found.\"\n",
    "\n"
   ]
  },
  {
   "cell_type": "code",
   "execution_count": 24,
   "id": "dec4566b-fa5b-4867-9fb2-3d80ddcbd5fa",
   "metadata": {},
   "outputs": [
    {
     "name": "stdout",
     "output_type": "stream",
     "text": [
      "                                   track_name        artists track_genre\n",
      "81135                         Blinding Lights     The Weeknd         pop\n",
      "81334                               Mistletoe  Justin Bieber         pop\n",
      "81893                          Blue Banisters   Lana Del Rey         pop\n",
      "81830  Have Yourself A Merry Little Christmas      Sam Smith         pop\n",
      "81676                              Black Life  Navaan Sandhu         pop\n"
     ]
    }
   ],
   "source": [
    "df = pd.read_csv('spotify_dataset.csv')\n",
    "recommender = HybridSongRecommender()\n",
    "df = recommender.fit(df)\n",
    "recommendations = recommender.recommend(input_song, num_recommendations=5)\n",
    "print(recommendations)\n"
   ]
  },
  {
   "cell_type": "code",
   "execution_count": 26,
   "id": "58b29603-485a-4ce9-a921-2412706aba4a",
   "metadata": {},
   "outputs": [],
   "source": [
    "import pandas as pd\n",
    "from sklearn.preprocessing import LabelEncoder, StandardScaler\n",
    "\n",
    "# Assuming you have the class imported as HybridSongRecommender\n",
    "\n",
    "# Initialize the recommender\n",
    "recommender = HybridSongRecommender()\n",
    "\n",
    "# Load your dataset\n",
    "df = pd.read_csv('spotify_dataset.csv')  # Replace with your dataset path\n",
    "\n",
    "# Preprocess the data (encoding and normalization)\n",
    "df_genre_features_normalized = recommender.preprocess_data(df)\n"
   ]
  },
  {
   "cell_type": "code",
   "execution_count": 27,
   "id": "5e66cd67-0a6d-4db2-b585-0956c3fa642a",
   "metadata": {},
   "outputs": [
    {
     "data": {
      "image/png": "[encoded data removed]",
      "text/plain": [
       "<Figure size 1000x500 with 1 Axes>"
      ]
     },
     "metadata": {},
     "output_type": "display_data"
    },
    {
     "data": {
      "image/png": "[encoded data removed]",
      "text/plain": [
       "<Figure size 1000x500 with 1 Axes>"
      ]
     },
     "metadata": {},
     "output_type": "display_data"
    }
   ],
   "source": [
    "from sklearn.cluster import KMeans\n",
    "from sklearn.metrics import silhouette_score\n",
    "import matplotlib.pyplot as plt\n",
    "\n",
    "def evaluate_clusters(data, max_k):\n",
    "    inertia = []\n",
    "    silhouette_scores = []\n",
    "    \n",
    "    for k in range(2, max_k + 1):\n",
    "        kmeans = KMeans(n_clusters=k, random_state=0)\n",
    "        cluster_labels = kmeans.fit_predict(data)\n",
    "        inertia.append(kmeans.inertia_)\n",
    "        silhouette_avg = silhouette_score(data, cluster_labels)\n",
    "        silhouette_scores.append(silhouette_avg)\n",
    "        \n",
    "    # Plot the Elbow Method\n",
    "    plt.figure(figsize=(10, 5))\n",
    "    plt.plot(range(2, max_k + 1), inertia, 'bx-')\n",
    "    plt.xlabel('Number of clusters (k)')\n",
    "    plt.ylabel('Inertia')\n",
    "    plt.title('Elbow Method For Optimal k')\n",
    "    plt.show()\n",
    "    \n",
    "    # Plot the Silhouette Scores\n",
    "    plt.figure(figsize=(10, 5))\n",
    "    plt.plot(range(2, max_k + 1), silhouette_scores, 'bx-')\n",
    "    plt.xlabel('Number of clusters (k)')\n",
    "    plt.ylabel('Silhouette Score')\n",
    "    plt.title('Silhouette Scores For Different k')\n",
    "    plt.show()\n",
    "    \n",
    "    return inertia, silhouette_scores\n",
    "\n",
    "n_clusters = len(self.df['track_genre'].unique())\n",
    "# Evaluate clusters\n",
    "inertia, silhouette_scores = evaluate_clusters(df_genre_features_normalized, max_k=n_clusters)\n"
   ]
  },
  {
   "cell_type": "code",
   "execution_count": null,
   "id": "a1a6774f-494a-414e-93de-f6078359d31f",
   "metadata": {},
   "outputs": [],
   "source": []
  }
 ],
 "metadata": {
  "kernelspec": {
   "display_name": "Python 3 (ipykernel)",
   "language": "python",
   "name": "python3"
  },
  "language_info": {
   "codemirror_mode": {
    "name": "ipython",
    "version": 3
   },
   "file_extension": ".py",
   "mimetype": "text/x-python",
   "name": "python",
   "nbconvert_exporter": "python",
   "pygments_lexer": "ipython3",
   "version": "3.12.3"
  }
 },
 "nbformat": 4,
 "nbformat_minor": 5
}
