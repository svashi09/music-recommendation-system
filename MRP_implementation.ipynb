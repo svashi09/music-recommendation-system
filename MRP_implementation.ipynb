{
 "cells": [
  {
   "cell_type": "code",
   "execution_count": 1,
   "id": "e6ea4826-341e-45d0-98aa-ecd787176b8f",
   "metadata": {},
   "outputs": [],
   "source": [
    "import pandas as pd\n",
    "\n",
    "# Load the dataset\n",
    "df = pd.read_csv('spotify_dataset.csv')\n",
    "\n",
    "# Data Preprocessing\n",
    "df = df.dropna()\n",
    "df = df.drop(['time_signature', 'key'], axis=1)\n",
    "df.drop_duplicates(subset=['track_id'], inplace=True)"
   ]
  },
  {
   "cell_type": "code",
   "execution_count": 2,
   "id": "27b3f61e-7281-4fae-9809-5cd3cb2eeb3d",
   "metadata": {},
   "outputs": [],
   "source": [
    "# Step 1: Unsupervised Learning: K-means Clustering"
   ]
  },
  {
   "cell_type": "code",
   "execution_count": 3,
   "id": "35957e31-7fa1-4cac-b8f8-4def4e3404ab",
   "metadata": {},
   "outputs": [],
   "source": [
    "# Encode the genre column for K means clustering\n",
    "from sklearn.preprocessing import LabelEncoder\n",
    "\n",
    "le = LabelEncoder()\n",
    "df['track_genre_encoded'] = le.fit_transform(df['track_genre'].astype(str))\n",
    "features = ['track_genre_encoded']\n"
   ]
  },
  {
   "cell_type": "code",
   "execution_count": 4,
   "id": "47faaf19-358a-4d82-868a-fff20dcf252e",
   "metadata": {},
   "outputs": [],
   "source": [
    "from sklearn.preprocessing import StandardScaler\n",
    "from sklearn.cluster import KMeans\n",
    "from sklearn.metrics import silhouette_score\n",
    "\n",
    "# Use the encoded genre as the feature for clustering\n",
    "features = ['track_genre_encoded', 'danceability', 'energy', 'valence', 'loudness', 'speechiness', 'acousticness', 'instrumentalness', 'liveness', 'tempo']\n",
    "df_features = df[features]\n",
    "\n",
    "# Normalize the features\n",
    "scaler = StandardScaler()\n",
    "df_features_normalized = scaler.fit_transform(df_features)\n",
    "\n",
    "# K-Means Clustering\n",
    "n_clusters = len(df['track_genre'].unique())  # Number of unique genres (for initial approach)\n",
    "kmeans = KMeans(n_clusters=n_clusters, random_state=0)\n",
    "kmeans.fit(df_features_normalized)  # Use normalized features for clustering\n",
    "df['cluster'] = kmeans.labels_\n"
   ]
  },
  {
   "cell_type": "code",
   "execution_count": 5,
   "id": "59dc0ae8-fa55-4046-940f-0695503e9df4",
   "metadata": {},
   "outputs": [],
   "source": [
    "def recommend_songs_by_cluster(input_song, n_recommendations=5):\n",
    "    # Convert input song details to lowercase for case-insensitive comparison\n",
    "    input_song_name = input_song['track_name'].strip().lower()\n",
    "    input_artist_name = input_song['artist_name'].strip().lower()\n",
    "    \n",
    "    # Find the input song's features\n",
    "    song = df[(df['track_name'].str.lower() == input_song_name) & \n",
    "              (df['artists'].apply(lambda x: any(artist.lower() == input_artist_name for artist in x.lower().split(';'))))]\n",
    "    \n",
    "    if song.empty:\n",
    "        return \"Input song not found in the dataset.\"\n",
    "    \n",
    "    # Get the cluster of the input song\n",
    "    cluster = song['cluster'].values[0]\n",
    "    \n",
    "    # Get similar songs within the same cluster\n",
    "    similar_songs = df[df['cluster'] == cluster]\n",
    "    \n",
    "    # Exclude the input song itself\n",
    "    similar_songs = similar_songs[~similar_songs['track_name'].str.lower().isin([input_song_name])]\n",
    "    \n",
    "    # Ensure unique track names\n",
    "    unique_recommendations = similar_songs.drop_duplicates(subset='track_name')\n",
    "    \n",
    "    # Select the top recommendations\n",
    "    recommendations_df = unique_recommendations.head(n_recommendations)\n",
    "    \n",
    "    if not recommendations_df.empty:\n",
    "        return recommendations_df[['track_name', 'artists']]\n",
    "    else:\n",
    "        return \"No recommendations found for the input song's cluster.\"\n",
    "\n"
   ]
  },
  {
   "cell_type": "code",
   "execution_count": 6,
   "id": "70fa44e0-72ad-4790-afc8-edd5eb80bd32",
   "metadata": {},
   "outputs": [
    {
     "name": "stdout",
     "output_type": "stream",
     "text": [
      "Enter the track name:  august\n",
      "Enter the artist name(s):  Taylor swift\n"
     ]
    },
    {
     "name": "stdout",
     "output_type": "stream",
     "text": [
      "\n",
      "Cluster-Based Recommendations:\n",
      "                                track_name  \\\n",
      "34115                             Saaiyaan   \n",
      "34575                               Hollow   \n",
      "35202                         Pétalas Neon   \n",
      "35695  Impossível Acreditar Que Perdi Você   \n",
      "36203                             Avec Toi   \n",
      "\n",
      "                                   artists  \n",
      "34115  Salim–Sulaiman;Rahat Fateh Ali Khan  \n",
      "34575                              Seafret  \n",
      "35202                         Noda de Caju  \n",
      "35695                                 Zezo  \n",
      "36203                                 OBOY  \n"
     ]
    }
   ],
   "source": [
    "# Get user input\n",
    "track_name = input(\"Enter the track name: \").strip()\n",
    "artist_name = input(\"Enter the artist name(s): \").strip()\n",
    "\n",
    "# Define the input song\n",
    "input_song = {\n",
    "    'track_name': track_name,\n",
    "    'artist_name': artist_name\n",
    "}\n",
    "\n",
    "# Get recommendations using cluster-based filtering\n",
    "recommendations = recommend_songs_by_cluster(input_song, n_recommendations=5)\n",
    "\n",
    "print(\"\\nCluster-Based Recommendations:\")\n",
    "print(recommendations)\n"
   ]
  },
  {
   "cell_type": "code",
   "execution_count": 7,
   "id": "d784dcfc-455b-48ee-bf4c-6a68b433f703",
   "metadata": {},
   "outputs": [],
   "source": [
    "# Step 2: Supervised Learning: Content-Based Filtering"
   ]
  },
  {
   "cell_type": "code",
   "execution_count": 8,
   "id": "4e6d9701-a69f-458f-9a19-bb4071cef396",
   "metadata": {},
   "outputs": [],
   "source": [
    "from sklearn.preprocessing import StandardScaler\n",
    "from sklearn.metrics.pairwise import cosine_similarity\n",
    "\n",
    "# Select relevant features for CONTENT BASED FILTERING\n",
    "features = ['danceability', 'energy', 'valence', 'loudness', 'speechiness', 'acousticness', 'instrumentalness', 'liveness', 'tempo']\n",
    "X = df[features]\n",
    "\n",
    "# Normalize the features\n",
    "scaler = StandardScaler()\n",
    "X_normalized = scaler.fit_transform(X)"
   ]
  },
  {
   "cell_type": "code",
   "execution_count": 9,
   "id": "aa59d194-e892-43c3-816b-18e16dd39a1b",
   "metadata": {},
   "outputs": [
    {
     "name": "stdout",
     "output_type": "stream",
     "text": [
      "Enter the track name:  august\n",
      "Enter the artist name(s):  Taylor swift\n"
     ]
    },
    {
     "name": "stdout",
     "output_type": "stream",
     "text": [
      "\n",
      "Content-Based Recommendations:\n",
      "        similarity                          track_name  \\\n",
      "104232    1.000000             Por la boca vive el pez   \n",
      "60025     0.990193                         Last Summer   \n",
      "95043     0.988733                   Tú Me Haces Falta   \n",
      "35205     0.984680                    Sem Se Apaixonar   \n",
      "14358     0.981430  Vampirina Theme - From \"Vampirina\"   \n",
      "\n",
      "                                  artists  \n",
      "104232                  Fito y Fitipaldis  \n",
      "60025   Tokyo Machine;Weird Genius;Lights  \n",
      "95043                      Eddie Santiago  \n",
      "35205                           Eric Land  \n",
      "14358                    Cast - Vampirina  \n"
     ]
    }
   ],
   "source": [
    "def recommend_songs_by_content(input_song, num_recommendations=5):\n",
    "    # Convert input song details to lowercase for case-insensitive comparison\n",
    "    input_song_name = input_song['track_name'].strip().lower()\n",
    "    input_artist_name = input_song['artist_name'].strip().lower()\n",
    "    \n",
    "    # Find the input song's features\n",
    "    song = df[(df['track_name'].str.lower() == input_song_name) & \n",
    "              (df['artists'].apply(lambda x: any(artist.lower() == input_artist_name for artist in x.lower().split(';'))))]\n",
    "    \n",
    "    if song.empty:\n",
    "        return \"Input song not found in the dataset.\"\n",
    "    \n",
    "    # Get the features of the input song\n",
    "    input_index = song.index[0]\n",
    "    input_features = X_normalized[input_index].reshape(1, -1)\n",
    "    \n",
    "    # Calculate cosine similarity between input song features and all songs\n",
    "    similarities = cosine_similarity(input_features, X_normalized)\n",
    "    \n",
    "    # Create a DataFrame of similarities\n",
    "    similarity_df = pd.DataFrame(similarities.T, index=df.index, columns=['similarity'])\n",
    "    \n",
    "    # Exclude the input song from recommendations to avoid suggesting the same song\n",
    "    similarity_df = similarity_df.drop(index=input_index)\n",
    "    \n",
    "    # Sort by similarity and get top N recommendations\n",
    "    similarity_df = similarity_df.sort_values(by='similarity', ascending=False)\n",
    "    top_n = num_recommendations * 2\n",
    "    recommendations = similarity_df.head(top_n).join(df[['track_name', 'artists']])\n",
    "    \n",
    "    # Drop duplicates and ensure there are exactly num_recommendations\n",
    "    recommendations = recommendations.drop_duplicates(subset='track_name')\n",
    "    recommendations = recommendations.head(num_recommendations)\n",
    "    \n",
    "    return recommendations\n",
    "\n",
    "# Get user input\n",
    "track_name = input(\"Enter the track name: \").strip()\n",
    "artist_name = input(\"Enter the artist name(s): \").strip()\n",
    "\n",
    "# Define the input song\n",
    "input_song = {\n",
    "    'track_name': track_name,\n",
    "    'artist_name': artist_name\n",
    "}\n",
    "\n",
    "# Get recommendations using content-based filtering\n",
    "recommendations = recommend_songs_by_content(input_song, num_recommendations=5)\n",
    "\n",
    "print(\"\\nContent-Based Recommendations:\")\n",
    "print(recommendations)\n"
   ]
  },
  {
   "cell_type": "code",
   "execution_count": null,
   "id": "2c32fe6e-40a3-4475-a0be-ee022cd4cc12",
   "metadata": {},
   "outputs": [],
   "source": []
  }
 ],
 "metadata": {
  "kernelspec": {
   "display_name": "Python 3 (ipykernel)",
   "language": "python",
   "name": "python3"
  },
  "language_info": {
   "codemirror_mode": {
    "name": "ipython",
    "version": 3
   },
   "file_extension": ".py",
   "mimetype": "text/x-python",
   "name": "python",
   "nbconvert_exporter": "python",
   "pygments_lexer": "ipython3",
   "version": "3.12.3"
  }
 },
 "nbformat": 4,
 "nbformat_minor": 5
}
